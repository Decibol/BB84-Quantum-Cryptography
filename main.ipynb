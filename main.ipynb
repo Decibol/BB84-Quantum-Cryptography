{
 "cells": [
  {
   "cell_type": "code",
   "execution_count": 31,
   "metadata": {},
   "outputs": [],
   "source": [
    "import pennylane as qml\n",
    "import numpy as np\n",
    "\n",
    "# Define the quantum device \n",
    "device = qml.device(\"default.qubit\", wires=1)"
   ]
  },
  {
   "cell_type": "code",
   "execution_count": 32,
   "metadata": {},
   "outputs": [],
   "source": [
    "# Define quantum circuit for Alice's encoding\n",
    "def alice_encode(bit, basis):\n",
    "    @qml.qnode(device)\n",
    "    def circuit():\n",
    "        if bit == 1:\n",
    "            qml.PauliX(wires=0)  # Apply X gate if the bit is 1\n",
    "        if basis == 'S':\n",
    "            qml.Hadamard(wires=0)  # Apply H gate for superposition\n",
    "        return qml.state()  # Return the quantum state\n",
    "    return circuit()"
   ]
  },
  {
   "cell_type": "code",
   "execution_count": 33,
   "metadata": {},
   "outputs": [],
   "source": [
    "# Define quantum circuit for measurement (used by Eve and Bob)\n",
    "def measure_qubit(basis):\n",
    "    @qml.qnode(device)\n",
    "    def circuit():\n",
    "        if basis == 'S':\n",
    "            qml.Hadamard(wires=0)  # Apply H gate for superposition measurement\n",
    "        return qml.sample(wires=0)  # Measure the qubit with finite shots\n",
    "    return circuit"
   ]
  },
  {
   "cell_type": "code",
   "execution_count": 34,
   "metadata": {},
   "outputs": [],
   "source": [
    "# Alice's choices and bits\n",
    "alice_bits = [0, 1, 1, 0, 0, 0, 1, 0, 1, 1]\n",
    "alice_choices = ['NS', 'NS', 'S', 'NS', 'S', 'NS', 'S', 'NS', 'NS', 'S']\n",
    "encoded_qubits = []"
   ]
  },
  {
   "cell_type": "code",
   "execution_count": 35,
   "metadata": {},
   "outputs": [
    {
     "name": "stdout",
     "output_type": "stream",
     "text": [
      "Alice created the key of 10 bits: [0, 1, 1, 0, 0, 0, 1, 0, 1, 1]\n",
      "Alice's superposition choices: ['NS', 'NS', 'S', 'NS', 'S', 'NS', 'S', 'NS', 'NS', 'S']\n",
      "Now, Alice sends her qubits to Bob >>>>>>>>>>>>>>>\n"
     ]
    }
   ],
   "source": [
    "# Alice encodes the qubits\n",
    "for bit, basis in zip(alice_bits, alice_choices):\n",
    "    encoded_qubits.append(alice_encode(bit, basis))\n",
    "\n",
    "print(\"Alice created the key of 10 bits:\", alice_bits)\n",
    "print(\"Alice's superposition choices:\", alice_choices)\n",
    "print(\"Now, Alice sends her qubits to Bob >>>>>>>>>>>>>>>\")"
   ]
  },
  {
   "cell_type": "code",
   "execution_count": 37,
   "metadata": {},
   "outputs": [
    {
     "name": "stdout",
     "output_type": "stream",
     "text": [
      "***************** IF EVE INTERCEPTS! ******************\n",
      "Eve measured bits: [1, 1, 1, 0, 1, 1, 1, 1, 1, 1]\n",
      "Eve sends intercepted qubits to Bob >>>>>>>\n"
     ]
    }
   ],
   "source": [
    "# Eve intercepts\n",
    "print(\"***************** IF EVE INTERCEPTS! ******************\")\n",
    "eve_choices = ['S', 'NS', 'S', 'NS', 'NS', 'S', 'NS', 'S', 'S', 'NS']\n",
    "eve_bits = []\n",
    "\n",
    "# Eve measures and re-encodes the qubits\n",
    "for state, basis in zip(encoded_qubits, eve_choices):\n",
    "    @qml.qnode(device)\n",
    "    def eve_measure_and_reencode():\n",
    "        qml.QubitStateVector(state, wires=0)  # Initialize the state\n",
    "        if basis == 'S':\n",
    "            qml.Hadamard(wires=0)  # Apply H gate for superposition measurement\n",
    "        return qml.expval(qml.PauliZ(0))  # Measure the expected value\n",
    "\n",
    "    eve_measurement = eve_measure_and_reencode()\n",
    "    eve_bit = 0 if eve_measurement > 0 else 1  # Interpret expval as a bit\n",
    "    eve_bits.append(eve_bit)\n",
    "\n",
    "    @qml.qnode(device)\n",
    "    def reencode_qubit():\n",
    "        if eve_bit == 1:\n",
    "            qml.PauliX(wires=0)  # Apply X gate if the bit is 1\n",
    "        if basis == 'S':\n",
    "            qml.Hadamard(wires=0)  # Apply H gate for superposition\n",
    "        return qml.state()\n",
    "\n",
    "    # This encodes the qubit for Bob\n",
    "    reencode_qubit()\n",
    "\n",
    "print(\"Eve measured bits:\", eve_bits)\n",
    "print(\"Eve sends intercepted qubits to Bob >>>>>>>\")"
   ]
  },
  {
   "cell_type": "code",
   "execution_count": 40,
   "metadata": {},
   "outputs": [
    {
     "name": "stdout",
     "output_type": "stream",
     "text": [
      "Bob's superposition choices: ['S', 'NS', 'NS', 'NS', 'S', 'NS', 'NS', 'NS', 'S', 'S']\n",
      "Bob measured bits: [1, 1, 1, 0, 0, 0, 1, 0, 1, 1]\n"
     ]
    }
   ],
   "source": [
    "# Define a device with analytic mode\n",
    "device = qml.device(\"default.qubit\", wires=1)  # Analytic mode is enabled by default\n",
    "\n",
    "def measure_qubit(state, basis):\n",
    "    @qml.qnode(device)\n",
    "    def circuit():\n",
    "        qml.QubitStateVector(state, wires=0)  # Initialize the state\n",
    "        if basis == 'S':\n",
    "            qml.Hadamard(wires=0)  # Apply H gate for superposition measurement\n",
    "        # Use expected value to determine the bit\n",
    "        return qml.expval(qml.PauliZ(wires=0))  # Measure along the Z-axis\n",
    "    return circuit\n",
    "\n",
    "# Bob's choices and measurement\n",
    "bob_choices = ['S', 'NS', 'NS', 'NS', 'S', 'NS', 'NS', 'NS', 'S', 'S']\n",
    "bob_bits = []\n",
    "\n",
    "for state, basis in zip(encoded_qubits, bob_choices):\n",
    "    # Measure the qubit and append the result\n",
    "    expval = measure_qubit(state, basis)()\n",
    "    bob_bit = 0 if expval > 0 else 1  # Convert expectation value to bit (0 for +1, 1 for -1)\n",
    "    bob_bits.append(bob_bit)\n",
    "\n",
    "print(\"Bob's superposition choices:\", bob_choices)\n",
    "print(\"Bob measured bits:\", bob_bits)\n"
   ]
  },
  {
   "cell_type": "code",
   "execution_count": 41,
   "metadata": {},
   "outputs": [
    {
     "name": "stdout",
     "output_type": "stream",
     "text": [
      "Alice's effective key: [1, 0, 0, 0, 0, 1]\n",
      "Bob's effective key: [1, 0, 0, 0, 0, 1]\n",
      "SECURE! Keys match: [1, 0, 0, 0, 0, 1]\n"
     ]
    }
   ],
   "source": [
    "# Key reconciliation\n",
    "alice_key = []\n",
    "bob_key = []\n",
    "\n",
    "for a_choice, b_choice, a_bit, b_bit in zip(alice_choices, bob_choices, alice_bits, bob_bits):\n",
    "    if a_choice == b_choice:\n",
    "        alice_key.append(a_bit)\n",
    "        bob_key.append(b_bit)\n",
    "\n",
    "print(\"Alice's effective key:\", alice_key)\n",
    "print(\"Bob's effective key:\", bob_key)\n",
    "if alice_key == bob_key:\n",
    "    print(\"SECURE! Keys match:\", alice_key)\n",
    "else:\n",
    "    print(\"EVE DETECTED! Keys mismatch.\")\n"
   ]
  },
  {
   "cell_type": "code",
   "execution_count": 48,
   "metadata": {},
   "outputs": [
    {
     "name": "stdout",
     "output_type": "stream",
     "text": [
      "\\nWITHOUT EVE'S INTERCEPTION\\n\n"
     ]
    }
   ],
   "source": [
    "# WITHOUT EVE'S INTERCEPTION\n",
    "print(\"\\\\nWITHOUT EVE'S INTERCEPTION\\\\n\")\n",
    "encoded_qubits = []\n",
    "for bit, basis in zip(alice_bits, alice_choices):\n",
    "    encoded_qubits.append(alice_encode(bit, basis))\n",
    "\n",
    "bob_bits = []\n",
    "for state, basis in zip(encoded_qubits, bob_choices):\n",
    "    # Measure the qubit with the given state and basis\n",
    "    bob_bit = int(measure_qubit(state, basis)())  # Pass both state and basis\n",
    "    bob_bits.append(bob_bit)"
   ]
  },
  {
   "cell_type": "code",
   "execution_count": 49,
   "metadata": {},
   "outputs": [
    {
     "name": "stdout",
     "output_type": "stream",
     "text": [
      "Alice's effective key: [1, 0, 0, 0, 0, 1]\n",
      "Bob's effective key: [-1, 1, 0, 1, 1, 0]\n",
      "EVE DETECTED! Keys mismatch.\n"
     ]
    }
   ],
   "source": [
    "alice_key = []\n",
    "bob_key = []\n",
    "\n",
    "for a_choice, b_choice, a_bit, b_bit in zip(alice_choices, bob_choices, alice_bits, bob_bits):\n",
    "    if a_choice == b_choice:\n",
    "        alice_key.append(a_bit)\n",
    "        bob_key.append(b_bit)\n",
    "\n",
    "print(\"Alice's effective key:\", alice_key)\n",
    "print(\"Bob's effective key:\", bob_key)\n",
    "\n",
    "if alice_key == bob_key:\n",
    "    print(\"SECURE! Keys match:\", alice_key)\n",
    "else:\n",
    "    print(\"EVE DETECTED! Keys mismatch.\")"
   ]
  }
 ],
 "metadata": {
  "kernelspec": {
   "display_name": "Python 3",
   "language": "python",
   "name": "python3"
  },
  "language_info": {
   "codemirror_mode": {
    "name": "ipython",
    "version": 3
   },
   "file_extension": ".py",
   "mimetype": "text/x-python",
   "name": "python",
   "nbconvert_exporter": "python",
   "pygments_lexer": "ipython3",
   "version": "3.12.5"
  }
 },
 "nbformat": 4,
 "nbformat_minor": 2
}
