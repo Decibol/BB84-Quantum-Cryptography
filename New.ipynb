{
 "cells": [
  {
   "cell_type": "code",
   "execution_count": 1,
   "metadata": {},
   "outputs": [],
   "source": [
    "import pennylane as qml\n",
    "# Devices for Eve and Bob with single-shot simulations\n",
    "dev_eve = qml.device('default.qubit', wires=1, shots=1)\n",
    "dev_bob = qml.device('default.qubit', wires=1, shots=1)\n",
    "dev_no_eve = qml.device('default.qubit', wires=1, shots=1)"
   ]
  },
  {
   "cell_type": "code",
   "execution_count": 2,
   "metadata": {},
   "outputs": [],
   "source": [
    "# Alice's encoding and Eve's measurement\n",
    "@qml.qnode(dev_eve)\n",
    "def alice_eve_circuit(bit, basis):\n",
    "    if bit == 1:\n",
    "        qml.PauliX(0)\n",
    "    if basis == 'S':\n",
    "        qml.Hadamard(0)\n",
    "    return qml.sample(wires=0)\n",
    "\n",
    "# Bob's measurement after Eve's interception\n",
    "@qml.qnode(dev_bob)\n",
    "def bob_circuit(eve_bit, bob_basis):\n",
    "    if eve_bit == 1:\n",
    "        qml.PauliX(0)\n",
    "    if bob_basis == 'S':\n",
    "        qml.Hadamard(0)\n",
    "    return qml.sample(wires=0)\n",
    "\n",
    "# Direct Alice to Bob communication (no Eve)\n",
    "@qml.qnode(dev_no_eve)\n",
    "def alice_bob_circuit(bit, alice_basis, bob_basis):\n",
    "    if bit == 1:\n",
    "        qml.PauliX(0)\n",
    "    if alice_basis == 'S':\n",
    "        qml.Hadamard(0)\n",
    "    if bob_basis == 'S':\n",
    "        qml.Hadamard(0)\n",
    "    return qml.sample(wires=0)"
   ]
  },
  {
   "cell_type": "code",
   "execution_count": null,
   "metadata": {},
   "outputs": [],
   "source": [
    "# Alice's initial setup\n",
    "alice_bits = [0,1,1,0,0,0,1,0,1,1]\n",
    "alice_choices = ['NS', 'NS', 'S', 'NS', 'S','NS', 'S', 'NS','NS', 'S']\n",
    "\n",
    "print(\"Alice created the key of 10 bits:\", alice_bits)\n",
    "print(\"Alice's basis choices:\", alice_choices)\n",
    "print(\"Now, Alice 'sends' her qubits to Bob >>>>>>>>>>>>>>>>>>>>>>>>>>>>\")\n"
   ]
  },
  {
   "cell_type": "code",
   "execution_count": null,
   "metadata": {},
   "outputs": [],
   "source": [
    "print(\"***************** IF EVE INTERCEPTS! ******************\")\n",
    "\n",
    "# Eve intercepts and measures\n",
    "eve_bits = []\n",
    "for q in range(len(alice_bits)):\n",
    "    eve_bit = alice_eve_circuit(alice_bits[q], alice_choices[q])\n",
    "    eve_bits.append(int(eve_bit))\n",
    "\n",
    "print(\"Eve measured bits:\", eve_bits)\n",
    "print(\"Superposition collapsed; Bob receives intercepted qubits.\")\n",
    "\n",
    "# Bob measures with his basis choices\n",
    "bob_choices = ['S', 'NS', 'NS', 'NS', 'S','NS', 'NS', 'NS','S', 'S']\n",
    "bob_bits = []\n",
    "for q in range(len(eve_bits)):\n",
    "    bob_bit = bob_circuit(eve_bits[q], bob_choices[q])\n",
    "    bob_bits.append(int(bob_bit))\n",
    "\n",
    "print(\"Bob's basis choices:\", bob_choices)\n",
    "print(\"Bob measured bits:\", bob_bits)\n",
    "\n",
    "# Derive effective keys where bases match\n",
    "alice_key = [alice_bits[q] for q in range(10) if alice_choices[q] == bob_choices[q]]\n",
    "bob_key = [bob_bits[q] for q in range(10) if alice_choices[q] == bob_choices[q]]\n",
    "\n",
    "print(\"Effective Alice's key:\", alice_key)\n",
    "print(\"Effective Bob's key:\", bob_key)\n",
    "\n",
    "if alice_key == bob_key:\n",
    "    print(\"SECURE! Keys match. Key ==\", alice_key)\n",
    "else:\n",
    "    print(\"EVE DETECTED! Keys mismatch. Use another quantum channel.\")"
   ]
  },
  {
   "cell_type": "code",
   "execution_count": null,
   "metadata": {},
   "outputs": [],
   "source": [
    "print(\"\\nWITHOUT EVE'S INTERCEPTION\")\n",
    "print(\"$$$$$$$$$$$$$$$$$$$$$$$$$$$$$$$$$$$$$$$$$$$$$$$$$$$$$\")\n",
    "\n",
    "# Bob measures directly without Eve's interference\n",
    "bob_bits_no_eve = []\n",
    "for q in range(len(alice_bits)):\n",
    "    bob_bit = alice_bob_circuit(alice_bits[q], alice_choices[q], bob_choices[q])\n",
    "    bob_bits_no_eve.append(int(bob_bit))\n",
    "\n",
    "print(\"Bob's basis choices:\", bob_choices)\n",
    "print(\"Bob measured bits (no Eve):\", bob_bits_no_eve)\n",
    "\n",
    "# Derive effective keys where bases match\n",
    "alice_key_ne = [alice_bits[q] for q in range(10) if alice_choices[q] == bob_choices[q]]\n",
    "bob_key_ne = [bob_bits_no_eve[q] for q in range(10) if alice_choices[q] == bob_choices[q]]\n",
    "\n",
    "print(\"Effective Alice's key (no Eve):\", alice_key_ne)\n",
    "print(\"Effective Bob's key (no Eve):\", bob_key_ne)\n",
    "\n",
    "print(\"||||||||||||||||||||||||||||||||||||||||||||||||||||||||||||\")\n",
    "if alice_key_ne == bob_key_ne:\n",
    "    print(\"SECURE! Keys match without Eve. KEY ==\", alice_key_ne)\n",
    "else:\n",
    "    print(\"ERROR: Keys mismatch without Eve. Check simulation.\")"
   ]
  }
 ],
 "metadata": {
  "kernelspec": {
   "display_name": "Python 3",
   "language": "python",
   "name": "python3"
  },
  "language_info": {
   "codemirror_mode": {
    "name": "ipython",
    "version": 3
   },
   "file_extension": ".py",
   "mimetype": "text/x-python",
   "name": "python",
   "nbconvert_exporter": "python",
   "pygments_lexer": "ipython3",
   "version": "3.12.5"
  }
 },
 "nbformat": 4,
 "nbformat_minor": 2
}
